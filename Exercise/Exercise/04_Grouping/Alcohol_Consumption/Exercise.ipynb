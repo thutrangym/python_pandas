{
 "cells": [
  {
   "cell_type": "markdown",
   "metadata": {
    "pycharm": {
     "name": "#%% md\n"
    }
   },
   "source": [
    "# Ex - GroupBy"
   ]
  },
  {
   "cell_type": "markdown",
   "metadata": {
    "pycharm": {
     "name": "#%% md\n"
    }
   },
   "source": [
    "### Introduction:\n",
    "\n",
    "GroupBy can be summarized as Split-Apply-Combine.\n",
    "\n",
    "Special thanks to: https://github.com/justmarkham for sharing the dataset and materials.\n",
    "\n",
    "Check out this [Diagram](http://i.imgur.com/yjNkiwL.png)  \n",
    "### Step 1. Import the necessary libraries"
   ]
  },
  {
   "cell_type": "code",
   "execution_count": 3,
   "metadata": {
    "pycharm": {
     "name": "#%%\n"
    }
   },
   "outputs": [],
   "source": [
    "import pandas as pd\n",
    "import csv"
   ]
  },
  {
   "cell_type": "markdown",
   "metadata": {
    "pycharm": {
     "name": "#%% md\n"
    }
   },
   "source": [
    "### Step 2. Import the dataset from this [address](https://github.com/thieu1995/csv-files/blob/main/data/pandas/drinks.csv)."
   ]
  },
  {
   "cell_type": "code",
   "execution_count": 16,
   "metadata": {},
   "outputs": [],
   "source": [
    "file_path = r\"D:\\Download\\Exercise\\Exercise\\04_Grouping\\Alcohol_Consumption\\drinks.csv\"\n",
    "data = pd.read_csv(file_path,sep=',')"
   ]
  },
  {
   "cell_type": "markdown",
   "metadata": {
    "pycharm": {
     "name": "#%% md\n"
    }
   },
   "source": [
    "### Step 3. Assign it to a variable called drinks."
   ]
  },
  {
   "cell_type": "code",
   "execution_count": 17,
   "metadata": {
    "pycharm": {
     "name": "#%%\n"
    }
   },
   "outputs": [],
   "source": [
    "drinks = pd.DataFrame(data)"
   ]
  },
  {
   "cell_type": "markdown",
   "metadata": {
    "pycharm": {
     "name": "#%% md\n"
    }
   },
   "source": [
    "### Step 4. Which continent drinks more beer on average?"
   ]
  },
  {
   "cell_type": "code",
   "execution_count": 18,
   "metadata": {
    "pycharm": {
     "name": "#%%\n"
    }
   },
   "outputs": [
    {
     "name": "stdout",
     "output_type": "stream",
     "text": [
      "106.16062176165804\n",
      "['EU' 'AF' 'SA' 'OC' nan 'AS']\n"
     ]
    }
   ],
   "source": [
    "average = drinks['beer_servings'].mean()\n",
    "continent = drinks.loc[drinks['beer_servings'] > average, 'continent'].unique()\n",
    "print(average)\n",
    "print(continent)\n"
   ]
  },
  {
   "cell_type": "markdown",
   "metadata": {
    "pycharm": {
     "name": "#%% md\n"
    }
   },
   "source": [
    "### Step 5. For each continent print the statistics for wine consumption."
   ]
  },
  {
   "cell_type": "code",
   "execution_count": 28,
   "metadata": {
    "pycharm": {
     "name": "#%%\n"
    }
   },
   "outputs": [
    {
     "name": "stdout",
     "output_type": "stream",
     "text": [
      "Country: EU - Wine Consumption: 6400\n",
      "Country: AF - Wine Consumption: 862\n",
      "Country: SA - Wine Consumption: 749\n",
      "Country: OC - Wine Consumption: 570\n",
      "Country: nan - Wine Consumption: 0\n",
      "Country: AS - Wine Consumption: 399\n"
     ]
    }
   ],
   "source": [
    "wine_consumption = drinks.loc[drinks['continent'].isin(continent), 'wine_servings'] \n",
    "for i in continent:\n",
    "    wine = wine_consumption.loc[drinks['continent'] == i].sum()\n",
    "    print(f\"Country: {i} - Wine Consumption: {wine}\")"
   ]
  },
  {
   "cell_type": "markdown",
   "metadata": {
    "pycharm": {
     "name": "#%% md\n"
    }
   },
   "source": [
    "### Step 6. Print the mean alcohol consumption per continent for every column"
   ]
  },
  {
   "cell_type": "code",
   "execution_count": 34,
   "metadata": {
    "pycharm": {
     "name": "#%%\n"
    }
   },
   "outputs": [
    {
     "name": "stdout",
     "output_type": "stream",
     "text": [
      "Country: EU - Mean Alcohol Consumption: 8.617777777777775\n",
      "Country: AF - Mean Alcohol Consumption: 3.0075471698113208\n",
      "Country: SA - Mean Alcohol Consumption: 6.308333333333334\n",
      "Country: OC - Mean Alcohol Consumption: 3.3812499999999996\n",
      "Country: nan - Mean Alcohol Consumption: nan\n",
      "Country: AS - Mean Alcohol Consumption: 2.170454545454545\n"
     ]
    }
   ],
   "source": [
    "alcohol_consumption = drinks.loc[drinks['continent'].isin(continent), 'total_litres_of_pure_alcohol']   \n",
    "for i in continent:\n",
    "    alcohol = alcohol_consumption.loc[drinks['continent'] == i]  \n",
    "    print(f\"Country: {i} - Mean Alcohol Consumption: {alcohol.mean()}\")"
   ]
  },
  {
   "cell_type": "markdown",
   "metadata": {
    "pycharm": {
     "name": "#%% md\n"
    }
   },
   "source": [
    "### Step 7. Print the median alcohol consumption per continent for every column"
   ]
  },
  {
   "cell_type": "code",
   "execution_count": 35,
   "metadata": {},
   "outputs": [
    {
     "name": "stdout",
     "output_type": "stream",
     "text": [
      "Country: EU - Median Alcohol Consumption: 10.0\n",
      "Country: AF - Median Alcohol Consumption: 2.3\n",
      "Country: SA - Median Alcohol Consumption: 6.85\n",
      "Country: OC - Median Alcohol Consumption: 1.75\n",
      "Country: nan - Median Alcohol Consumption: nan\n",
      "Country: AS - Median Alcohol Consumption: 1.2\n"
     ]
    }
   ],
   "source": [
    "for i in continent:\n",
    "    alcohol = alcohol_consumption.loc[drinks['continent'] == i]\n",
    "    print(f\"Country: {i} - Median Alcohol Consumption: {alcohol.median()}\")\n"
   ]
  },
  {
   "cell_type": "markdown",
   "metadata": {
    "pycharm": {
     "name": "#%% md\n"
    }
   },
   "source": [
    "### Step 8. Print the mean, min and max values for spirit consumption.\n",
    "#### This time output a DataFrame"
   ]
  },
  {
   "cell_type": "code",
   "execution_count": 37,
   "metadata": {
    "pycharm": {
     "name": "#%%\n"
    }
   },
   "outputs": [
    {
     "name": "stdout",
     "output_type": "stream",
     "text": [
      "Mean value of spirit consumption:  80.99481865284974\n",
      "Min value of spirit consumption:  0\n",
      "Max value of spirit consumption:  438\n"
     ]
    }
   ],
   "source": [
    "spirit_consumption = drinks.loc[drinks['continent'].isin(continent), 'spirit_servings']\n",
    "print(\"Mean value of spirit consumption: \", spirit_consumption.mean())\n",
    "print(\"Min value of spirit consumption: \", spirit_consumption.min())\n",
    "print(\"Max value of spirit consumption: \", spirit_consumption.max())"
   ]
  }
 ],
 "metadata": {
  "kernelspec": {
   "display_name": "Python 3",
   "language": "python",
   "name": "python3"
  },
  "language_info": {
   "codemirror_mode": {
    "name": "ipython",
    "version": 3
   },
   "file_extension": ".py",
   "mimetype": "text/x-python",
   "name": "python",
   "nbconvert_exporter": "python",
   "pygments_lexer": "ipython3",
   "version": "3.11.9"
  }
 },
 "nbformat": 4,
 "nbformat_minor": 0
}
