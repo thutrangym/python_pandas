{
 "cells": [
  {
   "cell_type": "markdown",
   "metadata": {
    "pycharm": {
     "name": "#%% md\n"
    }
   },
   "source": [
    "# Student Alcohol Consumption"
   ]
  },
  {
   "cell_type": "markdown",
   "metadata": {
    "pycharm": {
     "name": "#%% md\n"
    }
   },
   "source": [
    "### Introduction:\n",
    "\n",
    "This time you will download a dataset from the UCI.\n",
    "\n",
    "### Step 1. Import the necessary libraries"
   ]
  },
  {
   "cell_type": "code",
   "execution_count": 1,
   "metadata": {
    "collapsed": false,
    "pycharm": {
     "name": "#%%\n"
    }
   },
   "outputs": [],
   "source": [
    "import pandas as pd"
   ]
  },
  {
   "cell_type": "markdown",
   "metadata": {
    "pycharm": {
     "name": "#%% md\n"
    }
   },
   "source": [
    "### Step 2. Import the dataset from this [address](https://raw.githubusercontent.com/thieu1995/csv-files/main/data/pandas/student-mat.csv)."
   ]
  },
  {
   "cell_type": "code",
   "execution_count": 3,
   "metadata": {},
   "outputs": [],
   "source": [
    "file_path = r\"D:\\Download\\Exercise\\Exercise\\05_Apply\\Students_Alcohol_Consumption\\student_alcohol.csv\"\n",
    "data = pd.read_csv(file_path, sep=\",\")"
   ]
  },
  {
   "cell_type": "markdown",
   "metadata": {
    "pycharm": {
     "name": "#%% md\n"
    }
   },
   "source": [
    "### Step 3. Assign it to a variable called df."
   ]
  },
  {
   "cell_type": "code",
   "execution_count": 4,
   "metadata": {
    "collapsed": false,
    "pycharm": {
     "name": "#%%\n"
    }
   },
   "outputs": [],
   "source": [
    "students = pd.DataFrame(data)"
   ]
  },
  {
   "cell_type": "markdown",
   "metadata": {
    "pycharm": {
     "name": "#%% md\n"
    }
   },
   "source": [
    "### Step 4. For the purpose of this exercise slice the dataframe from 'school' until the 'guardian' column"
   ]
  },
  {
   "cell_type": "code",
   "execution_count": 5,
   "metadata": {
    "collapsed": false,
    "pycharm": {
     "name": "#%%\n"
    }
   },
   "outputs": [
    {
     "name": "stdout",
     "output_type": "stream",
     "text": [
      "  school sex  age address famsize Pstatus  Medu  Fedu     Mjob      Fjob  \\\n",
      "0     GP   F   18       U     GT3       A     4     4  at_home   teacher   \n",
      "1     GP   F   17       U     GT3       T     1     1  at_home     other   \n",
      "2     GP   F   15       U     LE3       T     1     1  at_home     other   \n",
      "3     GP   F   15       U     GT3       T     4     2   health  services   \n",
      "4     GP   F   16       U     GT3       T     3     3    other     other   \n",
      "\n",
      "   reason guardian  \n",
      "0  course   mother  \n",
      "1  course   father  \n",
      "2   other   mother  \n",
      "3    home   mother  \n",
      "4    home   father  \n"
     ]
    }
   ],
   "source": [
    "students = students.loc[:, 'school' : 'guardian']\n",
    "print(students.head())"
   ]
  },
  {
   "cell_type": "markdown",
   "metadata": {
    "pycharm": {
     "name": "#%% md\n"
    }
   },
   "source": [
    "### Step 5. Create a lambda function that will capitalize strings."
   ]
  },
  {
   "cell_type": "code",
   "execution_count": null,
   "metadata": {
    "collapsed": false,
    "pycharm": {
     "name": "#%%\n"
    }
   },
   "outputs": [],
   "source": [
    "capilize = lambda x: x.capitalize()"
   ]
  },
  {
   "cell_type": "markdown",
   "metadata": {
    "pycharm": {
     "name": "#%% md\n"
    }
   },
   "source": [
    "### Step 6. Capitalize both Mjob and Fjob"
   ]
  },
  {
   "cell_type": "code",
   "execution_count": null,
   "metadata": {
    "collapsed": false,
    "pycharm": {
     "name": "#%%\n"
    }
   },
   "outputs": [],
   "source": [
    "students['Mjob'] = students['Mjob'].apply(capilize)\n",
    "students['Fjob'] = students['Fjob'].apply(capilize)\n"
   ]
  },
  {
   "cell_type": "markdown",
   "metadata": {
    "pycharm": {
     "name": "#%% md\n"
    }
   },
   "source": [
    "### Step 7. Print the last elements of the data set."
   ]
  },
  {
   "cell_type": "code",
   "execution_count": 12,
   "metadata": {
    "collapsed": false,
    "pycharm": {
     "name": "#%%\n"
    }
   },
   "outputs": [
    {
     "name": "stdout",
     "output_type": "stream",
     "text": [
      "    school sex  age address famsize Pstatus  Medu  Fedu      Mjob      Fjob  \\\n",
      "390     MS   M   20       U     LE3       A     2     2  Services  Services   \n",
      "391     MS   M   17       U     LE3       T     3     1  Services  Services   \n",
      "392     MS   M   21       R     GT3       T     1     1     Other     Other   \n",
      "393     MS   M   18       R     LE3       T     3     2  Services     Other   \n",
      "394     MS   M   19       U     LE3       T     1     1     Other   At_home   \n",
      "\n",
      "     reason guardian  \n",
      "390  course    other  \n",
      "391  course   mother  \n",
      "392  course    other  \n",
      "393  course   mother  \n",
      "394  course   father  \n"
     ]
    }
   ],
   "source": [
    "print(students.tail())"
   ]
  },
  {
   "cell_type": "markdown",
   "metadata": {
    "pycharm": {
     "name": "#%% md\n"
    }
   },
   "source": [
    "### Step 8. Did you notice the original dataframe is still lowercase? Why is that? Fix it and capitalize Mjob and Fjob."
   ]
  },
  {
   "cell_type": "code",
   "execution_count": null,
   "metadata": {
    "collapsed": false,
    "pycharm": {
     "name": "#%%\n"
    }
   },
   "outputs": [],
   "source": [
    "# apply() nó chỉ trả về một Series mới, không tự động thay đổi Data gốc nếu không gán lại\n",
    "# The original dataframe `data` is still lowercase because the `apply` method was applied to the `students` dataframe, \n",
    "# which is a sliced version of `data`. To fix this, we need to apply the capitalization directly to the `data` dataframe.\n",
    "\n",
    "data['Mjob'] = data['Mjob'].apply(lambda x: x.capitalize())\n",
    "data['Fjob'] = data['Fjob'].apply(lambda x: x.capitalize())\n",
    "\n",
    "# Update the `students` dataframe to reflect the changes in `data`\n",
    "students['Mjob'] = data['Mjob']\n",
    "students['Fjob'] = data['Fjob']\n"
   ]
  },
  {
   "cell_type": "markdown",
   "metadata": {
    "pycharm": {
     "name": "#%% md\n"
    }
   },
   "source": [
    "### Step 9. Create a function called majority that returns a boolean value to a new column called legal_drinker (Consider majority as older than 17 years old)"
   ]
  },
  {
   "cell_type": "code",
   "execution_count": 21,
   "metadata": {
    "collapsed": false,
    "pycharm": {
     "name": "#%%\n"
    }
   },
   "outputs": [
    {
     "name": "stdout",
     "output_type": "stream",
     "text": [
      "0    18\n",
      "1    no\n",
      "2    no\n",
      "3    no\n",
      "4    no\n",
      "5    no\n",
      "6    no\n",
      "7    no\n",
      "8    no\n",
      "9    no\n",
      "Name: age, dtype: object\n"
     ]
    }
   ],
   "source": [
    "legal_drinker = lambda x: x if x > 17 else 'no'\n",
    "list_of_legal_drinkers = students['age'].apply(legal_drinker)\n",
    "print(list_of_legal_drinkers.head(10))"
   ]
  },
  {
   "cell_type": "markdown",
   "metadata": {
    "pycharm": {
     "name": "#%% md\n"
    }
   },
   "source": [
    "### Step 10. Multiply every number of the dataset by 10. \n",
    "##### I know this makes no sense, don't forget it is just an exercise"
   ]
  },
  {
   "cell_type": "code",
   "execution_count": 22,
   "metadata": {
    "collapsed": false,
    "pycharm": {
     "name": "#%%\n"
    }
   },
   "outputs": [
    {
     "name": "stdout",
     "output_type": "stream",
     "text": [
      "  school sex  age address famsize Pstatus  Medu  Fedu      Mjob      Fjob  \\\n",
      "0     GP   F  180       U     GT3       A    40    40   At_home   Teacher   \n",
      "1     GP   F  170       U     GT3       T    10    10   At_home     Other   \n",
      "2     GP   F  150       U     LE3       T    10    10   At_home     Other   \n",
      "3     GP   F  150       U     GT3       T    40    20    Health  Services   \n",
      "4     GP   F  160       U     GT3       T    30    30     Other     Other   \n",
      "5     GP   M  160       U     LE3       T    40    30  Services     Other   \n",
      "6     GP   M  160       U     LE3       T    20    20     Other     Other   \n",
      "7     GP   F  170       U     GT3       A    40    40     Other   Teacher   \n",
      "8     GP   M  150       U     LE3       A    30    20  Services     Other   \n",
      "9     GP   M  150       U     GT3       T    30    40     Other     Other   \n",
      "\n",
      "       reason guardian  \n",
      "0      course   mother  \n",
      "1      course   father  \n",
      "2       other   mother  \n",
      "3        home   mother  \n",
      "4        home   father  \n",
      "5  reputation   mother  \n",
      "6        home   mother  \n",
      "7        home   mother  \n",
      "8        home   mother  \n",
      "9        home   mother  \n"
     ]
    }
   ],
   "source": [
    "numeric_cols = students.select_dtypes(include=['int64', 'float64']).columns.tolist()\n",
    "students[numeric_cols] = students[numeric_cols] * 10\n",
    "print(students.head(10))"
   ]
  },
  {
   "cell_type": "code",
   "execution_count": null,
   "metadata": {
    "collapsed": false,
    "pycharm": {
     "name": "#%%\n"
    }
   },
   "outputs": [],
   "source": []
  }
 ],
 "metadata": {
  "anaconda-cloud": {},
  "kernelspec": {
   "display_name": "Python 3",
   "language": "python",
   "name": "python3"
  },
  "language_info": {
   "codemirror_mode": {
    "name": "ipython",
    "version": 3
   },
   "file_extension": ".py",
   "mimetype": "text/x-python",
   "name": "python",
   "nbconvert_exporter": "python",
   "pygments_lexer": "ipython3",
   "version": "3.11.9"
  }
 },
 "nbformat": 4,
 "nbformat_minor": 0
}
