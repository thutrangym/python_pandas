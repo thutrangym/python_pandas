{
 "cells": [
  {
   "cell_type": "markdown",
   "metadata": {
    "pycharm": {
     "name": "#%% md\n"
    }
   },
   "source": [
    "# Iris"
   ]
  },
  {
   "cell_type": "markdown",
   "metadata": {
    "pycharm": {
     "name": "#%% md\n"
    }
   },
   "source": [
    "### Introduction:\n",
    "\n",
    "This exercise may seem a little bit strange, but keep doing it.\n",
    "\n",
    "### Step 1. Import the necessary libraries"
   ]
  },
  {
   "cell_type": "code",
   "execution_count": 2,
   "metadata": {
    "collapsed": false,
    "pycharm": {
     "name": "#%%\n"
    }
   },
   "outputs": [],
   "source": [
    "import pandas as pd"
   ]
  },
  {
   "cell_type": "markdown",
   "metadata": {
    "pycharm": {
     "name": "#%% md\n"
    }
   },
   "source": [
    "### Step 2. Import the dataset from this [address](https://archive.ics.uci.edu/ml/machine-learning-databases/iris/iris.data). "
   ]
  },
  {
   "cell_type": "code",
   "execution_count": 11,
   "metadata": {},
   "outputs": [],
   "source": [
    "file_path = r\"D:\\Download\\Exercise\\Exercise\\08_Deleting\\Iris\\iris.csv\"\n",
    "data = pd.read_csv(file_path)"
   ]
  },
  {
   "cell_type": "markdown",
   "metadata": {
    "pycharm": {
     "name": "#%% md\n"
    }
   },
   "source": [
    "### Step 3. Assign it to a variable called iris"
   ]
  },
  {
   "cell_type": "code",
   "execution_count": 12,
   "metadata": {
    "collapsed": false,
    "pycharm": {
     "name": "#%%\n"
    }
   },
   "outputs": [],
   "source": [
    "iris = pd.DataFrame(data)"
   ]
  },
  {
   "cell_type": "markdown",
   "metadata": {
    "pycharm": {
     "name": "#%% md\n"
    }
   },
   "source": [
    "### Step 4. Create columns for the dataset"
   ]
  },
  {
   "cell_type": "code",
   "execution_count": 20,
   "metadata": {
    "collapsed": false,
    "pycharm": {
     "name": "#%%\n"
    }
   },
   "outputs": [
    {
     "name": "stdout",
     "output_type": "stream",
     "text": [
      "   sepal_length  sepal_width  petal_length  petal_width        class\n",
      "0           4.9          3.0           1.4          0.2  Iris-setosa\n",
      "1           4.7          3.2           1.3          0.2  Iris-setosa\n",
      "2           4.6          3.1           1.5          0.2  Iris-setosa\n",
      "3           5.0          3.6           1.4          0.2  Iris-setosa\n",
      "4           5.4          3.9           1.7          0.4  Iris-setosa\n"
     ]
    }
   ],
   "source": [
    "# 1. sepal_length (in cm)\n",
    "# 2. sepal_width (in cm)\n",
    "# 3. petal_length (in cm)\n",
    "# 4. petal_width (in cm)\n",
    "# 5. class\n",
    "\n",
    "columms = ['sepal_length', 'sepal_width', 'petal_length', 'petal_width', 'class']\n",
    "df = pd.read_csv(file_path, names=columms, header=None)\n",
    "iris.columns = columms\n",
    "print(iris.head())"
   ]
  },
  {
   "cell_type": "markdown",
   "metadata": {
    "pycharm": {
     "name": "#%% md\n"
    }
   },
   "source": [
    "### Step 5.  Is there any missing value in the dataframe?"
   ]
  },
  {
   "cell_type": "code",
   "execution_count": 21,
   "metadata": {},
   "outputs": [
    {
     "name": "stdout",
     "output_type": "stream",
     "text": [
      "sepal_length    0\n",
      "sepal_width     0\n",
      "petal_length    0\n",
      "petal_width     0\n",
      "class           0\n",
      "dtype: int64\n"
     ]
    }
   ],
   "source": [
    "print(iris.isnull().sum())"
   ]
  },
  {
   "cell_type": "code",
   "execution_count": null,
   "metadata": {
    "collapsed": false,
    "pycharm": {
     "name": "#%%\n"
    }
   },
   "outputs": [],
   "source": []
  },
  {
   "cell_type": "markdown",
   "metadata": {
    "pycharm": {
     "name": "#%% md\n"
    }
   },
   "source": [
    "### Step 6.  Lets set the values of the rows 10 to 29 of the column 'petal_length' to NaN"
   ]
  },
  {
   "cell_type": "code",
   "execution_count": 30,
   "metadata": {},
   "outputs": [
    {
     "name": "stdout",
     "output_type": "stream",
     "text": [
      "    sepal_length  sepal_width  petal_length  petal_width        class\n",
      "10           4.8          3.4           NaN          0.2  Iris-setosa\n",
      "11           4.8          3.0           NaN          0.1  Iris-setosa\n",
      "12           4.3          3.0           NaN          0.1  Iris-setosa\n",
      "13           5.8          4.0           NaN          0.2  Iris-setosa\n",
      "14           5.7          4.4           NaN          0.4  Iris-setosa\n",
      "15           5.4          3.9           NaN          0.4  Iris-setosa\n",
      "16           5.1          3.5           NaN          0.3  Iris-setosa\n",
      "17           5.7          3.8           NaN          0.3  Iris-setosa\n",
      "18           5.1          3.8           NaN          0.3  Iris-setosa\n",
      "19           5.4          3.4           NaN          0.2  Iris-setosa\n",
      "20           5.1          3.7           NaN          0.4  Iris-setosa\n",
      "21           4.6          3.6           NaN          0.2  Iris-setosa\n",
      "22           5.1          3.3           NaN          0.5  Iris-setosa\n",
      "23           4.8          3.4           NaN          0.2  Iris-setosa\n",
      "24           5.0          3.0           NaN          0.2  Iris-setosa\n",
      "25           5.0          3.4           NaN          0.4  Iris-setosa\n",
      "26           5.2          3.5           NaN          0.2  Iris-setosa\n",
      "27           5.2          3.4           NaN          0.2  Iris-setosa\n",
      "28           4.7          3.2           NaN          0.2  Iris-setosa\n",
      "29           4.8          3.1           NaN          0.2  Iris-setosa\n"
     ]
    }
   ],
   "source": [
    "import numpy as np\n",
    "\n",
    "iris.loc[10:29, 'petal_length'] = np.nan\n",
    "print(iris.loc[10:29])"
   ]
  },
  {
   "cell_type": "markdown",
   "metadata": {
    "pycharm": {
     "name": "#%% md\n"
    }
   },
   "source": [
    "### Step 7. Good, now lets substitute the NaN values to 1.0"
   ]
  },
  {
   "cell_type": "code",
   "execution_count": 34,
   "metadata": {
    "collapsed": false,
    "pycharm": {
     "name": "#%%\n"
    }
   },
   "outputs": [
    {
     "name": "stdout",
     "output_type": "stream",
     "text": [
      "    sepal_length  sepal_width  petal_length  petal_width        class\n",
      "10           4.8          3.4           1.0          0.2  Iris-setosa\n",
      "11           4.8          3.0           1.0          0.1  Iris-setosa\n",
      "12           4.3          3.0           1.0          0.1  Iris-setosa\n",
      "13           5.8          4.0           1.0          0.2  Iris-setosa\n",
      "14           5.7          4.4           1.0          0.4  Iris-setosa\n",
      "15           5.4          3.9           1.0          0.4  Iris-setosa\n",
      "16           5.1          3.5           1.0          0.3  Iris-setosa\n",
      "17           5.7          3.8           1.0          0.3  Iris-setosa\n",
      "18           5.1          3.8           1.0          0.3  Iris-setosa\n",
      "19           5.4          3.4           1.0          0.2  Iris-setosa\n",
      "20           5.1          3.7           1.0          0.4  Iris-setosa\n",
      "21           4.6          3.6           1.0          0.2  Iris-setosa\n",
      "22           5.1          3.3           1.0          0.5  Iris-setosa\n",
      "23           4.8          3.4           1.0          0.2  Iris-setosa\n",
      "24           5.0          3.0           1.0          0.2  Iris-setosa\n",
      "25           5.0          3.4           1.0          0.4  Iris-setosa\n",
      "26           5.2          3.5           1.0          0.2  Iris-setosa\n",
      "27           5.2          3.4           1.0          0.2  Iris-setosa\n",
      "28           4.7          3.2           1.0          0.2  Iris-setosa\n",
      "29           4.8          3.1           1.0          0.2  Iris-setosa\n",
      "sepal_length    0\n",
      "sepal_width     0\n",
      "petal_length    0\n",
      "petal_width     0\n",
      "class           0\n",
      "dtype: int64\n"
     ]
    }
   ],
   "source": [
    "iris.fillna(1.0, inplace=True  )\n",
    "\n",
    "print(iris.loc[10:29])\n",
    "print(iris.isnull().sum())"
   ]
  },
  {
   "cell_type": "markdown",
   "metadata": {
    "pycharm": {
     "name": "#%% md\n"
    }
   },
   "source": [
    "### Step 8. Now let's delete the column class"
   ]
  },
  {
   "cell_type": "code",
   "execution_count": 36,
   "metadata": {
    "collapsed": false,
    "pycharm": {
     "name": "#%%\n"
    }
   },
   "outputs": [
    {
     "name": "stdout",
     "output_type": "stream",
     "text": [
      "   sepal_length  sepal_width  petal_length  petal_width\n",
      "0           4.9          3.0           1.4          0.2\n",
      "1           4.7          3.2           1.3          0.2\n",
      "2           4.6          3.1           1.5          0.2\n",
      "3           5.0          3.6           1.4          0.2\n",
      "4           5.4          3.9           1.7          0.4\n"
     ]
    }
   ],
   "source": [
    "del iris['class']\n",
    "print(iris.head())"
   ]
  },
  {
   "cell_type": "markdown",
   "metadata": {
    "pycharm": {
     "name": "#%% md\n"
    }
   },
   "source": [
    "### Step 9.  Set the first 3 rows as NaN"
   ]
  },
  {
   "cell_type": "code",
   "execution_count": 38,
   "metadata": {
    "collapsed": false,
    "pycharm": {
     "name": "#%%\n"
    }
   },
   "outputs": [
    {
     "name": "stdout",
     "output_type": "stream",
     "text": [
      "   sepal_length  sepal_width  petal_length  petal_width\n",
      "0           NaN          NaN           NaN          NaN\n",
      "1           NaN          NaN           NaN          NaN\n",
      "2           NaN          NaN           NaN          NaN\n"
     ]
    }
   ],
   "source": [
    "iris.iloc[:3] = np.nan\n",
    "print(iris.head(3))"
   ]
  },
  {
   "cell_type": "markdown",
   "metadata": {
    "pycharm": {
     "name": "#%% md\n"
    }
   },
   "source": [
    "### Step 10.  Delete the rows that have NaN"
   ]
  },
  {
   "cell_type": "code",
   "execution_count": 45,
   "metadata": {
    "collapsed": false,
    "pycharm": {
     "name": "#%%\n"
    }
   },
   "outputs": [
    {
     "name": "stdout",
     "output_type": "stream",
     "text": [
      "   sepal_length  sepal_width  petal_length  petal_width\n",
      "3           5.0          3.6           1.4          0.2\n",
      "4           5.4          3.9           1.7          0.4\n",
      "5           4.6          3.4           1.4          0.3\n",
      "6           5.0          3.4           1.5          0.2\n",
      "7           4.4          2.9           1.4          0.2\n"
     ]
    }
   ],
   "source": [
    "iris.dropna(how='all', inplace=True)  # Xoá dòng chỉ khi tất cả các cột đều là NaN\n",
    "print(iris.head(5))"
   ]
  },
  {
   "cell_type": "markdown",
   "metadata": {
    "pycharm": {
     "name": "#%% md\n"
    }
   },
   "source": [
    "### Step 11. Reset the index so it begins with 0 again"
   ]
  },
  {
   "cell_type": "code",
   "execution_count": 46,
   "metadata": {
    "collapsed": false,
    "pycharm": {
     "name": "#%%\n"
    }
   },
   "outputs": [
    {
     "name": "stdout",
     "output_type": "stream",
     "text": [
      "   sepal_length  sepal_width  petal_length  petal_width\n",
      "0           5.0          3.6           1.4          0.2\n",
      "1           5.4          3.9           1.7          0.4\n",
      "2           4.6          3.4           1.4          0.3\n",
      "3           5.0          3.4           1.5          0.2\n",
      "4           4.4          2.9           1.4          0.2\n"
     ]
    }
   ],
   "source": [
    "iris.reset_index(drop=True, inplace=True)  # Đặt lại chỉ số cho DataFrame\n",
    "print(iris.head(5))"
   ]
  },
  {
   "cell_type": "markdown",
   "metadata": {
    "pycharm": {
     "name": "#%% md\n"
    }
   },
   "source": [
    "### BONUS: Create your own question and answer it."
   ]
  },
  {
   "cell_type": "code",
   "execution_count": null,
   "metadata": {
    "collapsed": true,
    "pycharm": {
     "name": "#%%\n"
    }
   },
   "outputs": [],
   "source": []
  }
 ],
 "metadata": {
  "kernelspec": {
   "display_name": "Python 3",
   "language": "python",
   "name": "python3"
  },
  "language_info": {
   "codemirror_mode": {
    "name": "ipython",
    "version": 3
   },
   "file_extension": ".py",
   "mimetype": "text/x-python",
   "name": "python",
   "nbconvert_exporter": "python",
   "pygments_lexer": "ipython3",
   "version": "3.11.9"
  }
 },
 "nbformat": 4,
 "nbformat_minor": 0
}
