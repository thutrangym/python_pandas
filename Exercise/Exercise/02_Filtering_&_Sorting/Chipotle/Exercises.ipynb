{
 "cells": [
  {
   "cell_type": "markdown",
   "metadata": {
    "pycharm": {
     "name": "#%% md\n"
    }
   },
   "source": [
    "# Ex1 - Filtering and Sorting Data"
   ]
  },
  {
   "cell_type": "markdown",
   "metadata": {
    "pycharm": {
     "name": "#%% md\n"
    }
   },
   "source": [
    "This time we are going to pull data directly from the internet.\n",
    "Special thanks to: https://github.com/justmarkham for sharing the dataset and materials.\n",
    "\n",
    "### Step 1. Import the necessary libraries"
   ]
  },
  {
   "cell_type": "code",
   "execution_count": 4,
   "metadata": {
    "collapsed": false,
    "pycharm": {
     "is_executing": true,
     "name": "#%%\n"
    }
   },
   "outputs": [],
   "source": [
    "import pandas as pd"
   ]
  },
  {
   "cell_type": "markdown",
   "metadata": {
    "pycharm": {
     "name": "#%% md\n"
    }
   },
   "source": [
    "### Step 2. Import the dataset from this [address](https://raw.githubusercontent.com/thieu1995/csv-files/main/data/pandas/chipotle.tsv)."
   ]
  },
  {
   "cell_type": "code",
   "execution_count": 5,
   "metadata": {},
   "outputs": [],
   "source": [
    "# Load the dataset from the file path\n",
    "file_path = r\"D:\\Download\\Exercise\\Exercise\\02_Filtering_&_Sorting\\Chipotle\\chipotle.tsv\"\n",
    "data = pd.read_csv(file_path, sep='\\t')"
   ]
  },
  {
   "cell_type": "markdown",
   "metadata": {
    "pycharm": {
     "name": "#%% md\n"
    }
   },
   "source": [
    "### Step 3. Assign it to a variable called chipo."
   ]
  },
  {
   "cell_type": "code",
   "execution_count": 6,
   "metadata": {
    "collapsed": false,
    "pycharm": {
     "name": "#%%\n"
    }
   },
   "outputs": [],
   "source": [
    "chipo = pd.DataFrame(data)\n"
   ]
  },
  {
   "cell_type": "markdown",
   "metadata": {
    "pycharm": {
     "name": "#%% md\n"
    }
   },
   "source": [
    "### Step 4. How many products cost more than $10.00?"
   ]
  },
  {
   "cell_type": "code",
   "execution_count": 7,
   "metadata": {
    "collapsed": false,
    "pycharm": {
     "name": "#%%\n"
    }
   },
   "outputs": [
    {
     "name": "stdout",
     "output_type": "stream",
     "text": [
      "1130\n"
     ]
    }
   ],
   "source": [
    "num_of_products_cost_more_than_10 = chipo[chipo['item_price'].str.replace('$', '').astype(float) > 10].shape[0]\n",
    "print(num_of_products_cost_more_than_10)"
   ]
  },
  {
   "cell_type": "markdown",
   "metadata": {
    "pycharm": {
     "name": "#%% md\n"
    }
   },
   "source": [
    "### Step 5. What is the price of each item? \n",
    "###### print a data frame with only two columns item_name and item_price"
   ]
  },
  {
   "cell_type": "code",
   "execution_count": 13,
   "metadata": {
    "collapsed": false,
    "pycharm": {
     "name": "#%%\n"
    }
   },
   "outputs": [
    {
     "name": "stdout",
     "output_type": "stream",
     "text": [
      "                                  item_name item_price\n",
      "0              Chips and Fresh Tomato Salsa     $2.39 \n",
      "1                                      Izze     $3.39 \n",
      "2                          Nantucket Nectar     $3.39 \n",
      "3     Chips and Tomatillo-Green Chili Salsa     $2.39 \n",
      "4                              Chicken Bowl    $16.98 \n",
      "...                                     ...        ...\n",
      "4237                    Chips and Guacamole     $8.50 \n",
      "4354                       Steak Soft Tacos    $18.50 \n",
      "4489                    Chips and Guacamole    $17.80 \n",
      "4509                                  Chips     $1.99 \n",
      "4510                          Barbacoa Bowl    $11.49 \n",
      "\n",
      "[209 rows x 2 columns]\n"
     ]
    }
   ],
   "source": [
    "price_of_each_item = chipo[['item_name', 'item_price']].drop_duplicates()\n",
    "print(price_of_each_item)"
   ]
  },
  {
   "cell_type": "markdown",
   "metadata": {
    "pycharm": {
     "name": "#%% md\n"
    }
   },
   "source": [
    "### Step 6. Sort by the name of the item"
   ]
  },
  {
   "cell_type": "code",
   "execution_count": 15,
   "metadata": {
    "collapsed": false,
    "pycharm": {
     "name": "#%%\n"
    }
   },
   "outputs": [
    {
     "name": "stdout",
     "output_type": "stream",
     "text": [
      "              item_name item_price\n",
      "3389  6 Pack Soft Drink    $12.98 \n",
      "298   6 Pack Soft Drink     $6.49 \n",
      "4510      Barbacoa Bowl    $11.49 \n",
      "3195      Barbacoa Bowl     $8.69 \n",
      "95        Barbacoa Bowl     $9.25 \n",
      "115       Barbacoa Bowl     $8.99 \n",
      "39        Barbacoa Bowl    $11.75 \n",
      "471       Barbacoa Bowl    $11.48 \n",
      "1648   Barbacoa Burrito    $11.08 \n",
      "81     Barbacoa Burrito     $9.25 \n"
     ]
    }
   ],
   "source": [
    "sorted_price_of_each_item = price_of_each_item.sort_values(by='item_name')\n",
    "print(sorted_price_of_each_item.head(10))    "
   ]
  },
  {
   "cell_type": "markdown",
   "metadata": {
    "pycharm": {
     "name": "#%% md\n"
    }
   },
   "source": [
    "### Step 7. What was the quantity of the most expensive item ordered?"
   ]
  },
  {
   "cell_type": "code",
   "execution_count": 16,
   "metadata": {
    "collapsed": false,
    "pycharm": {
     "name": "#%%\n"
    }
   },
   "outputs": [
    {
     "name": "stdout",
     "output_type": "stream",
     "text": [
      "item_name     Chips and Fresh Tomato Salsa\n",
      "item_price                         $44.25 \n",
      "Name: 3598, dtype: object\n"
     ]
    }
   ],
   "source": [
    "most_expensive_item = chipo.loc[chipo['item_price'].str.replace('$', '').astype(float).idxmax()]\n",
    "print(most_expensive_item[['item_name', 'item_price']])"
   ]
  },
  {
   "cell_type": "markdown",
   "metadata": {
    "pycharm": {
     "name": "#%% md\n"
    }
   },
   "source": [
    "### Step 8. How many times was a Veggie Salad Bowl ordered?"
   ]
  },
  {
   "cell_type": "code",
   "execution_count": 18,
   "metadata": {
    "collapsed": false,
    "pycharm": {
     "name": "#%%\n"
    }
   },
   "outputs": [
    {
     "name": "stdout",
     "output_type": "stream",
     "text": [
      "item_name: Veggie Salad Bowl, quantity: 18\n"
     ]
    }
   ],
   "source": [
    "ordered_item = chipo[chipo['item_name'] == 'Veggie Salad Bowl'].count()['quantity'] \n",
    "print(f\"item_name: Veggie Salad Bowl, quantity: {ordered_item}\")"
   ]
  },
  {
   "cell_type": "markdown",
   "metadata": {
    "pycharm": {
     "name": "#%% md\n"
    }
   },
   "source": [
    "### Step 9. How many times did someone order more than one Canned Soda?"
   ]
  },
  {
   "cell_type": "code",
   "execution_count": 23,
   "metadata": {
    "collapsed": false,
    "pycharm": {
     "name": "#%%\n"
    }
   },
   "outputs": [
    {
     "name": "stdout",
     "output_type": "stream",
     "text": [
      "item_name: Canned Soda, quantity: 20\n"
     ]
    }
   ],
   "source": [
    "ordered_item_more_than_one = chipo[(chipo['item_name'] == 'Canned Soda') & (chipo['quantity'] > 1)]\n",
    "num_orders = ordered_item_more_than_one['quantity'].shape[0]\n",
    "print(f\"item_name: Canned Soda, quantity: {num_orders}\")\n"
   ]
  }
 ],
 "metadata": {
  "kernelspec": {
   "display_name": "Python 3",
   "language": "python",
   "name": "python3"
  },
  "language_info": {
   "codemirror_mode": {
    "name": "ipython",
    "version": 3
   },
   "file_extension": ".py",
   "mimetype": "text/x-python",
   "name": "python",
   "nbconvert_exporter": "python",
   "pygments_lexer": "ipython3",
   "version": "3.11.9"
  }
 },
 "nbformat": 4,
 "nbformat_minor": 0
}
