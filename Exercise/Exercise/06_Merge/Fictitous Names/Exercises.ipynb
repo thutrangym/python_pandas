{
 "cells": [
  {
   "cell_type": "markdown",
   "metadata": {
    "pycharm": {
     "name": "#%% md\n"
    }
   },
   "source": [
    "# Fictitious Names"
   ]
  },
  {
   "cell_type": "markdown",
   "metadata": {
    "pycharm": {
     "name": "#%% md\n"
    }
   },
   "source": [
    "### Introduction:\n",
    "\n",
    "This time you will create a data again \n",
    "\n",
    "Special thanks to [Chris Albon](http://chrisalbon.com/) for sharing the dataset and materials.\n",
    "All the credits to this exercise belongs to him.  \n",
    "\n",
    "In order to understand about it go [here](https://blog.codinghorror.com/a-visual-explanation-of-sql-joins/).\n",
    "\n",
    "### Step 1. Import the necessary libraries"
   ]
  },
  {
   "cell_type": "code",
   "execution_count": 1,
   "metadata": {
    "collapsed": false,
    "pycharm": {
     "name": "#%%\n"
    }
   },
   "outputs": [],
   "source": [
    "import pandas as pd"
   ]
  },
  {
   "cell_type": "markdown",
   "metadata": {
    "pycharm": {
     "name": "#%% md\n"
    }
   },
   "source": [
    "### Step 2. Create the 3 DataFrames based on the following raw data"
   ]
  },
  {
   "cell_type": "code",
   "execution_count": 2,
   "metadata": {
    "collapsed": true,
    "pycharm": {
     "name": "#%%\n"
    }
   },
   "outputs": [],
   "source": [
    "raw_data_1 = {\n",
    "        'subject_id': ['1', '2', '3', '4', '5'],\n",
    "        'first_name': ['Alex', 'Amy', 'Allen', 'Alice', 'Ayoung'], \n",
    "        'last_name': ['Anderson', 'Ackerman', 'Ali', 'Aoni', 'Atiches']}\n",
    "\n",
    "raw_data_2 = {\n",
    "        'subject_id': ['4', '5', '6', '7', '8'],\n",
    "        'first_name': ['Billy', 'Brian', 'Bran', 'Bryce', 'Betty'], \n",
    "        'last_name': ['Bonder', 'Black', 'Balwner', 'Brice', 'Btisan']}\n",
    "\n",
    "raw_data_3 = {\n",
    "        'subject_id': ['1', '2', '3', '4', '5', '7', '8', '9', '10', '11'],\n",
    "        'test_id': [51, 15, 15, 61, 16, 14, 15, 1, 61, 16]}"
   ]
  },
  {
   "cell_type": "markdown",
   "metadata": {
    "pycharm": {
     "name": "#%% md\n"
    }
   },
   "source": [
    "### Step 3. Assign each to a variable called data1, data2, data3"
   ]
  },
  {
   "cell_type": "code",
   "execution_count": 3,
   "metadata": {
    "collapsed": false,
    "pycharm": {
     "name": "#%%\n"
    }
   },
   "outputs": [],
   "source": [
    "data1 = pd.DataFrame(raw_data_1, columns = ['subject_id', 'first_name', 'last_name'])\n",
    "data2 = pd.DataFrame(raw_data_2, columns = ['subject_id', 'first_name', 'last_name'])\n",
    "data3 = pd.DataFrame(raw_data_3, columns = ['subject_id', 'test_id'])"
   ]
  },
  {
   "cell_type": "markdown",
   "metadata": {
    "pycharm": {
     "name": "#%% md\n"
    }
   },
   "source": [
    "### Step 4. Join the two dataframes along rows and assign all_data"
   ]
  },
  {
   "cell_type": "code",
   "execution_count": 12,
   "metadata": {
    "collapsed": false,
    "pycharm": {
     "name": "#%%\n"
    }
   },
   "outputs": [
    {
     "name": "stdout",
     "output_type": "stream",
     "text": [
      "  subject_id first_name last_name\n",
      "0          1       Alex  Anderson\n",
      "1          2        Amy  Ackerman\n",
      "2          3      Allen       Ali\n",
      "3          4      Alice      Aoni\n",
      "4          5     Ayoung   Atiches\n",
      "5          4      Billy    Bonder\n",
      "6          5      Brian     Black\n",
      "7          6       Bran   Balwner\n",
      "8          7      Bryce     Brice\n",
      "9          8      Betty    Btisan\n"
     ]
    }
   ],
   "source": [
    "all_data = pd.concat([data1, data2], axis=0, ignore_index=True)\n",
    "print(all_data)"
   ]
  },
  {
   "cell_type": "markdown",
   "metadata": {
    "pycharm": {
     "name": "#%% md\n"
    }
   },
   "source": [
    "### Step 5. Join the two dataframes along columns and assing to all_data_col"
   ]
  },
  {
   "cell_type": "code",
   "execution_count": null,
   "metadata": {
    "collapsed": false,
    "pycharm": {
     "name": "#%%\n"
    }
   },
   "outputs": [
    {
     "name": "stdout",
     "output_type": "stream",
     "text": [
      "  subject_id first_name_left last_name_left first_name_right last_name_right  \\\n",
      "0          1            Alex       Anderson              NaN             NaN   \n",
      "1          2             Amy       Ackerman              NaN             NaN   \n",
      "2          3           Allen            Ali              NaN             NaN   \n",
      "3          4           Alice           Aoni            Billy          Bonder   \n",
      "4          5          Ayoung        Atiches            Brian           Black   \n",
      "5          6             NaN            NaN             Bran         Balwner   \n",
      "6          7             NaN            NaN            Bryce           Brice   \n",
      "7          8             NaN            NaN            Betty          Btisan   \n",
      "8        NaN             NaN            NaN              NaN             NaN   \n",
      "9        NaN             NaN            NaN              NaN             NaN   \n",
      "\n",
      "  first_name subject_id  test_id  \n",
      "0       Alex          1       51  \n",
      "1        Amy          2       15  \n",
      "2      Allen          3       15  \n",
      "3      Alice          4       61  \n",
      "4     Ayoung          5       16  \n",
      "5       Bran          7       14  \n",
      "6      Bryce          8       15  \n",
      "7      Betty          9        1  \n",
      "8        NaN         10       61  \n",
      "9        NaN         11       16  \n"
     ]
    }
   ],
   "source": [
    "all_data_col = pd.concat([data1, data2], axis=1)\n",
    "print(all_data_col)"
   ]
  },
  {
   "cell_type": "markdown",
   "metadata": {
    "pycharm": {
     "name": "#%% md\n"
    }
   },
   "source": [
    "### Step 6. Print data3"
   ]
  },
  {
   "cell_type": "code",
   "execution_count": 7,
   "metadata": {
    "collapsed": false,
    "pycharm": {
     "name": "#%%\n"
    }
   },
   "outputs": [
    {
     "name": "stdout",
     "output_type": "stream",
     "text": [
      "  subject_id  test_id\n",
      "0          1       51\n",
      "1          2       15\n",
      "2          3       15\n",
      "3          4       61\n",
      "4          5       16\n",
      "5          7       14\n",
      "6          8       15\n",
      "7          9        1\n",
      "8         10       61\n",
      "9         11       16\n"
     ]
    }
   ],
   "source": [
    "print(data3)"
   ]
  },
  {
   "cell_type": "markdown",
   "metadata": {
    "pycharm": {
     "name": "#%% md\n"
    }
   },
   "source": [
    "### Step 7. Merge all_data and data3 along the subject_id value"
   ]
  },
  {
   "cell_type": "code",
   "execution_count": 14,
   "metadata": {
    "collapsed": false,
    "pycharm": {
     "name": "#%%\n"
    }
   },
   "outputs": [
    {
     "name": "stdout",
     "output_type": "stream",
     "text": [
      "   subject_id first_name last_name  test_id\n",
      "0           1       Alex  Anderson     51.0\n",
      "1          10        NaN       NaN     61.0\n",
      "2          11        NaN       NaN     16.0\n",
      "3           2        Amy  Ackerman     15.0\n",
      "4           3      Allen       Ali     15.0\n",
      "5           4      Alice      Aoni     61.0\n",
      "6           4      Billy    Bonder     61.0\n",
      "7           5     Ayoung   Atiches     16.0\n",
      "8           5      Brian     Black     16.0\n",
      "9           6       Bran   Balwner      NaN\n",
      "10          7      Bryce     Brice     14.0\n",
      "11          8      Betty    Btisan     15.0\n",
      "12          9        NaN       NaN      1.0\n"
     ]
    }
   ],
   "source": [
    "all = pd.merge(all_data, data3, on='subject_id', how='outer')\n",
    "print(all)"
   ]
  },
  {
   "cell_type": "markdown",
   "metadata": {
    "pycharm": {
     "name": "#%% md\n"
    }
   },
   "source": [
    "### Step 8. Merge only the data that has the same 'subject_id' on both data1 and data2"
   ]
  },
  {
   "cell_type": "code",
   "execution_count": 15,
   "metadata": {
    "collapsed": false,
    "pycharm": {
     "name": "#%%\n"
    }
   },
   "outputs": [
    {
     "name": "stdout",
     "output_type": "stream",
     "text": [
      "  subject_id first_name_x last_name_x first_name_y last_name_y\n",
      "0          4        Alice        Aoni        Billy      Bonder\n",
      "1          5       Ayoung     Atiches        Brian       Black\n"
     ]
    }
   ],
   "source": [
    "common_data = pd.merge(data1, data2, on='subject_id', how='inner')\n",
    "print(common_data)"
   ]
  },
  {
   "cell_type": "markdown",
   "metadata": {
    "pycharm": {
     "name": "#%% md\n"
    }
   },
   "source": [
    "### Step 9. Merge all values in data1 and data2, with matching records from both sides where available."
   ]
  },
  {
   "cell_type": "code",
   "execution_count": 16,
   "metadata": {},
   "outputs": [
    {
     "name": "stdout",
     "output_type": "stream",
     "text": [
      "  subject_id first_name_data1 last_name_data1 first_name_data2 last_name_data2\n",
      "0          1             Alex        Anderson              NaN             NaN\n",
      "1          2              Amy        Ackerman              NaN             NaN\n",
      "2          3            Allen             Ali              NaN             NaN\n",
      "3          4            Alice            Aoni            Billy          Bonder\n",
      "4          5           Ayoung         Atiches            Brian           Black\n",
      "5          6              NaN             NaN             Bran         Balwner\n",
      "6          7              NaN             NaN            Bryce           Brice\n",
      "7          8              NaN             NaN            Betty          Btisan\n"
     ]
    }
   ],
   "source": [
    "merged_data = pd.merge(data1, data2, on='subject_id', how='outer', suffixes=('_data1', '_data2'))\n",
    "print(merged_data)"
   ]
  },
  {
   "cell_type": "code",
   "execution_count": null,
   "metadata": {
    "collapsed": false,
    "pycharm": {
     "name": "#%%\n"
    }
   },
   "outputs": [],
   "source": []
  }
 ],
 "metadata": {
  "kernelspec": {
   "display_name": "Python 3",
   "language": "python",
   "name": "python3"
  },
  "language_info": {
   "codemirror_mode": {
    "name": "ipython",
    "version": 3
   },
   "file_extension": ".py",
   "mimetype": "text/x-python",
   "name": "python",
   "nbconvert_exporter": "python",
   "pygments_lexer": "ipython3",
   "version": "3.11.9"
  }
 },
 "nbformat": 4,
 "nbformat_minor": 0
}
