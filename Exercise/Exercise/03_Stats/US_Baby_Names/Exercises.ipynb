{
 "cells": [
  {
   "cell_type": "markdown",
   "metadata": {
    "pycharm": {
     "name": "#%% md\n"
    }
   },
   "source": [
    "# US - Baby Names"
   ]
  },
  {
   "cell_type": "markdown",
   "metadata": {
    "pycharm": {
     "name": "#%% md\n"
    }
   },
   "source": [
    "### Introduction:\n",
    "\n",
    "We are going to use a subset of [US Baby Names](https://www.kaggle.com/kaggle/us-baby-names) from Kaggle.  \n",
    "In the file it will be names from 2004 until 2014\n",
    "\n",
    "\n",
    "### Step 1. Import the necessary libraries"
   ]
  },
  {
   "cell_type": "code",
   "execution_count": 2,
   "metadata": {
    "collapsed": false,
    "pycharm": {
     "name": "#%%\n"
    }
   },
   "outputs": [],
   "source": [
    "import pandas as pd"
   ]
  },
  {
   "cell_type": "markdown",
   "metadata": {
    "pycharm": {
     "name": "#%% md\n"
    }
   },
   "source": [
    "### Step 2. Import the dataset from this [address](https://raw.githubusercontent.com/thieu1995/csv-files/main/data/pandas/US_Baby_Names_right.csv)."
   ]
  },
  {
   "cell_type": "code",
   "execution_count": 26,
   "metadata": {},
   "outputs": [],
   "source": [
    "filepaths = r'D:\\Download\\Exercise\\Exercise\\03_Stats\\US_Baby_Names\\us_baby.tsv'\n",
    "data = pd.read_csv(filepaths, sep=',')"
   ]
  },
  {
   "cell_type": "markdown",
   "metadata": {
    "pycharm": {
     "name": "#%% md\n"
    }
   },
   "source": [
    "### Step 3. Assign it to a variable called baby_names."
   ]
  },
  {
   "cell_type": "code",
   "execution_count": 27,
   "metadata": {
    "collapsed": false,
    "pycharm": {
     "name": "#%%\n"
    }
   },
   "outputs": [],
   "source": [
    "us_baby = pd.DataFrame(data)"
   ]
  },
  {
   "cell_type": "markdown",
   "metadata": {
    "pycharm": {
     "name": "#%% md\n"
    }
   },
   "source": [
    "### Step 4. See the first 10 entries"
   ]
  },
  {
   "cell_type": "code",
   "execution_count": 10,
   "metadata": {
    "collapsed": false,
    "pycharm": {
     "name": "#%%\n"
    }
   },
   "outputs": [
    {
     "name": "stdout",
     "output_type": "stream",
     "text": [
      "    ,Id,Name,Year,Gender,State,Count\n",
      "0      11349,11350,Emma,2004,F,AK,62\n",
      "1   11350,11351,Madison,2004,F,AK,48\n",
      "2    11351,11352,Hannah,2004,F,AK,46\n",
      "3     11352,11353,Grace,2004,F,AK,44\n",
      "4     11353,11354,Emily,2004,F,AK,41\n",
      "5   11354,11355,Abigail,2004,F,AK,37\n",
      "6    11355,11356,Olivia,2004,F,AK,33\n",
      "7  11356,11357,Isabella,2004,F,AK,30\n",
      "8    11357,11358,Alyssa,2004,F,AK,29\n",
      "9    11358,11359,Sophia,2004,F,AK,28\n"
     ]
    }
   ],
   "source": [
    "print(us_baby.head(10))"
   ]
  },
  {
   "cell_type": "markdown",
   "metadata": {
    "pycharm": {
     "name": "#%% md\n"
    }
   },
   "source": [
    "### Step 5. Delete the column 'Unnamed: 0' and 'Id'"
   ]
  },
  {
   "cell_type": "code",
   "execution_count": 29,
   "metadata": {
    "collapsed": false,
    "pycharm": {
     "name": "#%%\n"
    }
   },
   "outputs": [],
   "source": [
    "us_baby = us_baby.drop(columns=[col for col in ['Unnamed: 0', 'Id'] if col in us_baby.columns])"
   ]
  },
  {
   "cell_type": "markdown",
   "metadata": {
    "pycharm": {
     "name": "#%% md\n"
    }
   },
   "source": [
    "### Step 6. Is there more male or female names in the dataset?"
   ]
  },
  {
   "cell_type": "code",
   "execution_count": 31,
   "metadata": {
    "collapsed": false,
    "pycharm": {
     "name": "#%%\n"
    }
   },
   "outputs": [
    {
     "name": "stdout",
     "output_type": "stream",
     "text": [
      "There are more female names in the dataset.\n"
     ]
    }
   ],
   "source": [
    "gender_counts = us_baby['Gender'].value_counts()\n",
    "\n",
    "if gender_counts['F'] > gender_counts['M']:\n",
    "    print(\"There are more female names in the dataset.\")\n",
    "elif gender_counts['M'] > gender_counts['F']:\n",
    "    print(\"There are more male names in the dataset.\")\n",
    "else:\n",
    "    print(\"There is an equal number of male and female names.\")"
   ]
  },
  {
   "cell_type": "markdown",
   "metadata": {
    "pycharm": {
     "name": "#%% md\n"
    }
   },
   "source": [
    "### Step 7. Group the dataset by name and assign to names"
   ]
  },
  {
   "cell_type": "code",
   "execution_count": 32,
   "metadata": {
    "collapsed": false,
    "pycharm": {
     "name": "#%%\n"
    }
   },
   "outputs": [
    {
     "name": "stdout",
     "output_type": "stream",
     "text": [
      "<pandas.core.groupby.generic.DataFrameGroupBy object at 0x000001B6D4628050>\n"
     ]
    }
   ],
   "source": [
    "names = us_baby.groupby('Name')\n",
    "print(names)\n"
   ]
  },
  {
   "cell_type": "markdown",
   "metadata": {
    "pycharm": {
     "name": "#%% md\n"
    }
   },
   "source": [
    "### Step 8. How many different names exist in the dataset?"
   ]
  },
  {
   "cell_type": "code",
   "execution_count": 33,
   "metadata": {
    "collapsed": false,
    "pycharm": {
     "name": "#%%\n"
    }
   },
   "outputs": [
    {
     "name": "stdout",
     "output_type": "stream",
     "text": [
      "Number of unique names: 17632\n"
     ]
    }
   ],
   "source": [
    "names = us_baby['Name'].nunique()\n",
    "print(f\"Number of unique names: {names}\")"
   ]
  },
  {
   "cell_type": "markdown",
   "metadata": {
    "pycharm": {
     "name": "#%% md\n"
    }
   },
   "source": [
    "### Step 9. What is the name with most occurrences?"
   ]
  },
  {
   "cell_type": "code",
   "execution_count": null,
   "metadata": {
    "collapsed": false,
    "pycharm": {
     "name": "#%%\n"
    }
   },
   "outputs": [
    {
     "name": "stdout",
     "output_type": "stream",
     "text": [
      "The most common name is: Riley\n"
     ]
    }
   ],
   "source": [
    "the_most_common_name = us_baby['Name'].mode()[0]  # mode() returns the most common name as a Series, so we take the first element\n",
    "print(f\"The most common name is: {the_most_common_name}\")"
   ]
  },
  {
   "cell_type": "markdown",
   "metadata": {
    "pycharm": {
     "name": "#%% md\n"
    }
   },
   "source": [
    "### Step 10. How many different names have the least occurrences?"
   ]
  },
  {
   "cell_type": "code",
   "execution_count": 38,
   "metadata": {},
   "outputs": [
    {
     "name": "stdout",
     "output_type": "stream",
     "text": [
      "Number of names with the least common count (1): 3682\n"
     ]
    }
   ],
   "source": [
    "name_counts = us_baby['Name'].value_counts()\n",
    "min_count = name_counts.min()\n",
    "num_names_with_min_count = (name_counts == min_count).sum()\n",
    "print(f\"Number of names with the least common count ({min_count}): {num_names_with_min_count}\")"
   ]
  },
  {
   "cell_type": "markdown",
   "metadata": {
    "pycharm": {
     "name": "#%% md\n"
    }
   },
   "source": [
    "### Step 11. What is the median name occurrence?"
   ]
  },
  {
   "cell_type": "code",
   "execution_count": 42,
   "metadata": {
    "collapsed": false,
    "pycharm": {
     "name": "#%%\n"
    }
   },
   "outputs": [
    {
     "name": "stdout",
     "output_type": "stream",
     "text": [
      "Number of names with the median count (8.0): ['Gaelle', 'Ayannah', 'Zyanna', 'Kemya', 'Elliotte', 'Kinsler', 'Harli', 'Shelsea', 'Jediah', 'Jakya', 'Chani', 'Kunal', 'Riot', 'Curran', 'Che', 'Vanna', 'Reniyah', 'Adelie', 'Keeton', 'Polly', 'Gardenia', 'Nassir', 'Nicodemus', 'Monty', 'Trinton', 'Akari', 'Jaiven', 'Miki', 'Metztli', 'Maysen', 'Jesslynn', 'Bellah', 'Auriana', 'Arwa', 'Arsema', 'Cordero', 'Breydon', 'Yunuen', 'Kayliana', 'Kayly', 'Amaryllis', 'Jayani', 'Codey', 'Seriah', 'Saydie', 'Jamarkus', 'Ridwan', 'Yonis', 'Kenzlie', 'Nazier', 'Dua', 'Skylie', 'Joshue', 'Ediel', 'Tuff', 'Odelia', 'Noora', 'Cylas', 'Joah', 'Augusto', 'Morrison', 'Thaily', 'Issaiah', 'Malin', 'Aleana', 'Nataniel', 'Avree', 'Leylanie', 'Daleysa', 'Aidric', 'Mckenzee', 'Yliana', 'Atley', 'Braidyn', 'Dalyn', 'Otoniel', 'Kathlyn', 'Lacee', 'Makeyla', 'Jaice', 'Jaylynne', 'Jalani', 'Irais', 'Yanuel', 'Zamaya', 'Candelario', 'Aran', 'Eliab', 'Neko', 'Mackinzie', 'Fishel', 'Janeli', 'Artur', 'Keldrick', 'Hanad', 'Isrrael', 'Jamaree', 'Lenna', 'Zanaya', 'Yug', 'Sire', 'Marwan', 'Adira', 'Suki', 'Nishant', 'Blakelyn', 'Maleia', 'Mckinsey', 'Pandora', 'Ram', 'Rahman', 'Yishai', 'Sabino', 'Princesa', 'Andrae', 'Thierry', 'Alin', 'Thierno', 'Kaelee', 'Mikko', 'Hafsah', 'Ambree', 'Naraly', 'Mariann', 'Dominika', 'Signe', 'Sundus', 'Irena', 'Jennalyn', 'Jazmynn', 'Jonnathan', 'Alon', 'Khaliq', 'Denisha', 'Xitlalli', 'Elianah', 'Aziah', 'Julieana', 'Kaio', 'Larson', 'Andriana', 'Shelsy', 'Esli', 'Briyana', 'Siyona', 'Sarayu', 'Railynn', 'Azaleah', 'Lottie', 'Jacquelyne', 'Yuliza', 'Nakai', 'Hiliana', 'Kyndle', 'Alara', 'Adylene', 'Caydon', 'Alazay', 'Xzander', 'Baily', 'Chrissy', 'Han', 'Mechel', 'Tovia', 'Kynnedy', 'Ramone', 'Mattox', 'Ndeye', 'Lucus', 'Bea', 'Kimberlynn', 'Mycah', 'Mehdi', 'Katelynne', 'Sumaiya', 'Aleksey', 'Eliya', 'Nazar', 'Maurilio', 'Yvanna', 'Jeyden', 'Yanni', 'Rebecka', 'Bentleigh', 'Audrinna', 'Alaiya', 'Judas', 'Milca', 'Kaiyah', 'Jelissa', 'Theodor', 'Willian', 'Sathvik', 'Mouhamadou', 'Ivyonna', 'Lovina', 'Ivett', 'Iriana', 'Aerial', 'Kenli', 'Ranveer', 'Eladio', 'Edgard', 'Leslee', 'Karena', 'Nanci', 'Anshul', 'Katiana', 'Chazz', 'Yudith', 'Kaliana', 'Ameir', 'Annel', 'Annahi', 'Azure', 'Elizah', 'Keigan', 'Fay', 'Keylen', 'Kasie', 'Darling', 'Zari', 'Clarity', 'Emelly', 'Crista', 'Rubin', 'Dagan', 'Oluwatobi', 'Tanush', 'Daphnie', 'Elky', 'Nechuma', 'Lysander', 'Lavelle', 'Yakira', 'Romi', 'Graycen', 'Konstantin', 'Berlynn', 'Baleria', 'Ivyanna', 'Rufus', 'Zaylie', 'Jakia', 'Tj', 'Thai', 'Maika', 'Rasheen', 'Yaritzi', 'Johnatan', 'Yaira', 'Lilianne', 'Jian', 'Audryna', 'Triana', 'Aristeo', 'Jakelyn', 'Athalia', 'Anely', 'Jeilyn', 'Camiya', 'Azan', 'Woodrow', 'Deseray', 'Alysse', 'Alyn', 'Ezekial', 'Izek', 'Saketh', 'Rebel', 'Alliana', 'Lucila', 'Kaeson', 'Leni', 'Darvin', 'Embry', 'Noura', 'Sabria', 'Homer', 'Eesa', 'Anyiah', 'Gaurav', 'Lukasz', 'Amer', 'Kamaile', 'Lilinoe', 'Madix', 'Cypress', 'Erma', 'Lowell', 'Envy', 'Vlad', 'Dashel', 'Hasani', 'Makynlee', 'Shakir', 'Emmaly', 'Texas', 'Stoney', 'Ryatt', 'Jakori', 'Jakhari', 'Dillinger', 'Jenica', 'Jannelle', 'Itzell', 'Fidencio', 'Favio', 'Levin', 'Nyree', 'Sayler', 'Cecile', 'Kaileen', 'Sayed', 'Yoni', 'Elizaveta', 'Joni', 'Kimia', 'Pasquale', 'Alder', 'Yared', 'Ysabelle', 'Mariaclara', 'Lavern', 'Leighann', 'Tal', 'Ayumi', 'Egan', 'Hajar', 'Talin', 'Chastelyn', 'Jeniyah', 'Cezar', 'Brevin', 'Kristoffer', 'Dayonna', 'Riddhi', 'Armonie', 'Evanna', 'Lamiya', 'Meliah', 'Eliora', 'Suhaylah', 'Hari', 'Meleah', 'Marlenne', 'Abubakar', 'Amyri', 'Nalleli', 'Waseem', 'Srinidhi', 'Lucienne', 'Treshaun', 'Juel', 'Marquell', 'Jatziri', 'Taisha', 'Azlyn', 'Anthoni', 'Zakia']\n"
     ]
    }
   ],
   "source": [
    "median_count = name_counts.median()\n",
    "median_names = name_counts[name_counts == median_count].index.tolist()\n",
    "print(f\"Number of names with the median count ({median_count}): {median_names}\")"
   ]
  },
  {
   "cell_type": "markdown",
   "metadata": {
    "pycharm": {
     "name": "#%% md\n"
    }
   },
   "source": [
    "### Step 12. What is the standard deviation of names?"
   ]
  },
  {
   "cell_type": "code",
   "execution_count": 43,
   "metadata": {
    "collapsed": false,
    "pycharm": {
     "name": "#%%\n"
    }
   },
   "outputs": [
    {
     "name": "stdout",
     "output_type": "stream",
     "text": [
      "Standard deviation of name counts: 122.0299635081389\n"
     ]
    }
   ],
   "source": [
    "N = us_baby['Name'].value_counts()\n",
    "\n",
    "std_dev = N.std()\n",
    "print(f\"Standard deviation of name counts: {std_dev}\")\n"
   ]
  },
  {
   "cell_type": "markdown",
   "metadata": {
    "pycharm": {
     "name": "#%% md\n"
    }
   },
   "source": [
    "### Step 13. Get a summary with the mean, min, max, std and quartiles."
   ]
  },
  {
   "cell_type": "code",
   "execution_count": 45,
   "metadata": {
    "collapsed": false,
    "pycharm": {
     "name": "#%%\n"
    }
   },
   "outputs": [
    {
     "name": "stdout",
     "output_type": "stream",
     "text": [
      "The standard deviation of name counts is: 122.0299635081389\n",
      "The mean of name counts is: 57.644906987295826\n",
      "The median of name counts is: 8.0\n",
      "The mode of name counts is: 1\n",
      "The minimum of name counts is: 1\n",
      "The maximum of name counts is: 1112\n",
      "The 25th percentile of name counts is: 2.0\n"
     ]
    }
   ],
   "source": [
    "print(\"The standard deviation of name counts is:\", std_dev)\n",
    "print(\"The mean of name counts is:\", N.mean())\n",
    "print(\"The median of name counts is:\", N.median())\n",
    "print(\"The mode of name counts is:\", N.mode()[0])\n",
    "print(\"The minimum of name counts is:\", N.min())\n",
    "print(\"The maximum of name counts is:\", N.max())\n",
    "print(\"The 25th percentile of name counts is:\", N.quantile(0.25))\n"
   ]
  }
 ],
 "metadata": {
  "anaconda-cloud": {},
  "kernelspec": {
   "display_name": "Python 3",
   "language": "python",
   "name": "python3"
  },
  "language_info": {
   "codemirror_mode": {
    "name": "ipython",
    "version": 3
   },
   "file_extension": ".py",
   "mimetype": "text/x-python",
   "name": "python",
   "nbconvert_exporter": "python",
   "pygments_lexer": "ipython3",
   "version": "3.11.9"
  }
 },
 "nbformat": 4,
 "nbformat_minor": 0
}
